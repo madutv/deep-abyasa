{
 "cells": [
  {
   "cell_type": "markdown",
   "metadata": {},
   "source": [
    "# Multilabel Image Classification using MXNet\n",
    "\n",
    "#### Determine elements from chemical structure images. All images are from the awesome PubChem.com"
   ]
  },
  {
   "cell_type": "markdown",
   "metadata": {},
   "source": [
    "### Install necessary Package and Set CUDA to 1 for GPU"
   ]
  },
  {
   "cell_type": "code",
   "execution_count": null,
   "metadata": {},
   "outputs": [],
   "source": [
    "!pip install mxnet\n",
    "!pip install mxnet-cu92\n",
    "!pip install nltk\n",
    "!pip install -U sacremoses\n",
    "!pip install matplotlib\n",
    "!pip install gluoncv\n",
    "!pip install pandas\n",
    "USE_CUDA=1\n",
    "\n",
    "#!pip install gluonnlp"
   ]
  },
  {
   "cell_type": "markdown",
   "metadata": {},
   "source": [
    "### Import necessary packages"
   ]
  },
  {
   "cell_type": "code",
   "execution_count": 1,
   "metadata": {},
   "outputs": [],
   "source": [
    "%matplotlib inline\n",
    "import matplotlib.pyplot as plt\n",
    "\n",
    "from multiprocessing import cpu_count\n",
    "\n",
    "import mxnet as mx\n",
    "from mxnet import nd, gluon\n",
    "from mxnet.gluon.data.vision import transforms\n",
    "\n",
    "from deep_abyasa import Download\n",
    "from deep_abyasa import TrainingHelpers\n",
    "from deep_abyasa import Encode_Labels\n",
    "from deep_abyasa import JsonIndexMultiLabelDataset"
   ]
  },
  {
   "cell_type": "markdown",
   "metadata": {},
   "source": [
    "### Application Constants"
   ]
  },
  {
   "cell_type": "code",
   "execution_count": 2,
   "metadata": {},
   "outputs": [],
   "source": [
    "paths = './chem_struct_to_elem/'\n",
    "img_path = 'images'\n",
    "train = 'chem_train.json'\n",
    "test = 'chem_test.json'\n",
    "\n",
    "num_gpus = -1\n",
    "ctx = TrainingHelpers.get_ctx(num_gpus)\n",
    "CPU_COUNT = cpu_count()"
   ]
  },
  {
   "cell_type": "markdown",
   "metadata": {},
   "source": [
    "### Hyperparameters"
   ]
  },
  {
   "cell_type": "code",
   "execution_count": 3,
   "metadata": {},
   "outputs": [],
   "source": [
    "lr = 1\n",
    "momentum = 0.9\n",
    "wd = 0.0001\n",
    "batch_size = 8"
   ]
  },
  {
   "cell_type": "markdown",
   "metadata": {},
   "source": [
    "### Download necessary files if they don't already exists\n",
    "\n",
    "    1.Download dataset from google clould\n",
    "    2.Extract contents\n",
    "    3.Download includes: \n",
    "        a. Index file for train and test files. \n",
    "        b. Index file is a json file that contains image names and labels\n",
    "        c. pickle file that has lables (This is not used in this example)\n",
    "        d. Images (Chemical structures)\n",
    "        "
   ]
  },
  {
   "cell_type": "code",
   "execution_count": 4,
   "metadata": {},
   "outputs": [
    {
     "name": "stdout",
     "output_type": "stream",
     "text": [
      "./chem_struct_to_elem.tar.gz exists. Nothing will be downloaded\n",
      "./chem_struct_to_elem exists. Nothing will be unzipped\n"
     ]
    },
    {
     "data": {
      "text/plain": [
       "<deep_abyasa.preprocess.download.Download at 0x11013ee80>"
      ]
     },
     "execution_count": 4,
     "metadata": {},
     "output_type": "execute_result"
    }
   ],
   "source": [
    "Download('chem_struct_to_elem')"
   ]
  },
  {
   "cell_type": "markdown",
   "metadata": {},
   "source": [
    "### Extract labels and create itol and ltoi"
   ]
  },
  {
   "cell_type": "code",
   "execution_count": 4,
   "metadata": {},
   "outputs": [],
   "source": [
    "itol, ltoi = Encode_Labels.encode_from_index_files(root=paths, \n",
    "                                                   label_col='elements',\n",
    "                                                   files=[train, test],\n",
    "                                                   multi_label=True)\n",
    "\n",
    "labels = ltoi"
   ]
  },
  {
   "cell_type": "markdown",
   "metadata": {},
   "source": [
    "### Transformations to be applied on images. "
   ]
  },
  {
   "cell_type": "code",
   "execution_count": 5,
   "metadata": {},
   "outputs": [],
   "source": [
    "transform = transforms.Compose([\n",
    "    transforms.Resize(300),\n",
    "    #transforms.RandomResizedCrop(224),\n",
    "    #transforms.RandomBrightness(0.1),\n",
    "    transforms.RandomSaturation(.1),\n",
    "    transforms.RandomContrast(.1),\n",
    "    transforms.RandomColorJitter(.1),\n",
    "    transforms.RandomHue(.1),\n",
    "    transforms.ToTensor(),\n",
    "    transforms.Normalize(0, 1)\n",
    "])"
   ]
  },
  {
   "cell_type": "markdown",
   "metadata": {},
   "source": [
    "### Create train and test datasets and data loaders"
   ]
  },
  {
   "cell_type": "code",
   "execution_count": 6,
   "metadata": {},
   "outputs": [
    {
     "name": "stdout",
     "output_type": "stream",
     "text": [
      "Since Labels are provided, this will be used for one hot encoding\n",
      "Since Labels are provided, this will be used for one hot encoding\n"
     ]
    }
   ],
   "source": [
    "train_ds = JsonIndexMultiLabelDataset(paths, train, 'images', \"file\", \"elements\", \n",
    "                                      transform=transform, one_hot_encode_labels=True,\n",
    "                                      labels=labels)\n",
    "test_ds = JsonIndexMultiLabelDataset(paths, test, 'images', \"file\", \"elements\", \n",
    "                                      transform=transform, one_hot_encode_labels=True,\n",
    "                                      labels=labels)\n",
    "\n",
    "train_dl = mx.gluon.data.DataLoader(train_ds, batch_size=batch_size, num_workers=CPU_COUNT)\n",
    "test_dl = mx.gluon.data.DataLoader(test_ds, batch_size=batch_size, num_workers=CPU_COUNT)"
   ]
  },
  {
   "cell_type": "markdown",
   "metadata": {},
   "source": [
    "### View an image"
   ]
  },
  {
   "cell_type": "code",
   "execution_count": 7,
   "metadata": {},
   "outputs": [
    {
     "name": "stdout",
     "output_type": "stream",
     "text": [
      "8\n",
      "10091.0\n"
     ]
    },
    {
     "data": {
      "text/plain": [
       "(3, 300, 300)"
      ]
     },
     "execution_count": 7,
     "metadata": {},
     "output_type": "execute_result"
    },
    {
     "data": {
      "image/png": "[encoded data removed]",
      "text/plain": [
       "<Figure size 432x288 with 1 Axes>"
      ]
     },
     "metadata": {
      "needs_background": "light"
     },
     "output_type": "display_data"
    }
   ],
   "source": [
    "print(train_dl._batch_sampler._batch_size)\n",
    "image, codes, names = train_ds.__getitem__(89)\n",
    "plt.imshow(nd.transpose(image, (1,2,0)).asnumpy())\n",
    "print(names)\n",
    "image.shape"
   ]
  },
  {
   "cell_type": "markdown",
   "metadata": {},
   "source": [
    "### Load model "
   ]
  },
  {
   "cell_type": "code",
   "execution_count": 12,
   "metadata": {},
   "outputs": [],
   "source": [
    "net = TrainingHelpers.get_model('ResNet18_v2', ctx, len(labels), model_param=f'{paths}net_11_90.params')"
   ]
  },
  {
   "cell_type": "markdown",
   "metadata": {},
   "source": [
    "### Create Gluon Trainer and Loss Function"
   ]
  },
  {
   "cell_type": "code",
   "execution_count": 13,
   "metadata": {},
   "outputs": [],
   "source": [
    "trainer = gluon.Trainer(net.collect_params(), 'sgd', {\n",
    "                        'learning_rate': lr, 'momentum': momentum, 'wd': wd})\n",
    "Loss_func = gluon.loss.SigmoidBinaryCrossEntropyLoss()"
   ]
  },
  {
   "cell_type": "markdown",
   "metadata": {},
   "source": [
    "### Begin Training"
   ]
  },
  {
   "cell_type": "code",
   "execution_count": null,
   "metadata": {},
   "outputs": [],
   "source": [
    "temp = TrainingHelpers.train(train_dl, test_dl, net, trainer, Loss_func, epochs=1, num_gpus=num_gpus)"
   ]
  },
  {
   "cell_type": "markdown",
   "metadata": {},
   "source": [
    "### Predict for a random image"
   ]
  },
  {
   "cell_type": "code",
   "execution_count": 15,
   "metadata": {},
   "outputs": [
    {
     "data": {
      "text/plain": [
       "['carbon', 'chlorine', 'hydrogen', 'nitrogen', 'oxygen']"
      ]
     },
     "execution_count": 15,
     "metadata": {},
     "output_type": "execute_result"
    }
   ],
   "source": [
    "transform_test = transforms.Compose([\n",
    "    transforms.ToTensor(),\n",
    "    transforms.Normalize(0, 1)\n",
    "])\n",
    "\n",
    "TrainingHelpers.predict(net, f'{paths}/{img_path}', \"8288.png\", itol, transform=transform_test)"
   ]
  },
  {
   "cell_type": "code",
   "execution_count": null,
   "metadata": {},
   "outputs": [],
   "source": []
  }
 ],
 "metadata": {
  "kernelspec": {
   "display_name": "Python 3",
   "language": "python",
   "name": "python3"
  },
  "language_info": {
   "codemirror_mode": {
    "name": "ipython",
    "version": 3
   },
   "file_extension": ".py",
   "mimetype": "text/x-python",
   "name": "python",
   "nbconvert_exporter": "python",
   "pygments_lexer": "ipython3",
   "version": "3.7.0"
  }
 },
 "nbformat": 4,
 "nbformat_minor": 2
}
